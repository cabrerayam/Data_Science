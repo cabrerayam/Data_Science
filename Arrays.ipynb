{
  "nbformat": 4,
  "nbformat_minor": 0,
  "metadata": {
    "colab": {
      "name": "Arrays Cabrera.ipynb",
      "provenance": [],
      "collapsed_sections": []
    },
    "kernelspec": {
      "name": "python3",
      "display_name": "Python 3"
    },
    "language_info": {
      "name": "python"
    }
  },
  "cells": [
    {
      "cell_type": "markdown",
      "source": [
        "1. Generar un array aleatorio de 100 elementos. Calcular la mediana correspondiente.\n"
      ],
      "metadata": {
        "id": "mQObIBTXheBU"
      }
    },
    {
      "cell_type": "code",
      "execution_count": 37,
      "metadata": {
        "id": "OU1j520phUMV"
      },
      "outputs": [],
      "source": [
        "import numpy as np"
      ]
    },
    {
      "cell_type": "code",
      "source": [
        "Array_aleatorio = np.random.randint(10, size=100)\n",
        "print(Array_aleatorio)"
      ],
      "metadata": {
        "colab": {
          "base_uri": "https://localhost:8080/"
        },
        "id": "V37WZx4gkttX",
        "outputId": "2a9369ce-8cc0-4c21-8a6a-699f8179f9c1"
      },
      "execution_count": null,
      "outputs": [
        {
          "output_type": "stream",
          "name": "stdout",
          "text": [
            "[9 1 1 9 4 3 7 8 6 6 7 3 6 2 0 8 0 0 3 0 5 4 5 7 7 8 1 1 8 1 9 2 9 6 6 7 8\n",
            " 4 4 1 4 8 4 6 5 2 7 1 1 0 2 9 9 0 8 8 2 2 0 7 3 5 6 1 6 7 3 2 1 6 9 8 6 9\n",
            " 8 7 5 4 2 6 5 9 2 0 1 1 5 8 9 5 3 0 1 4 6 9 5 7 7 1]\n"
          ]
        }
      ]
    },
    {
      "cell_type": "code",
      "source": [
        "np.median(Array_aleatorio)"
      ],
      "metadata": {
        "colab": {
          "base_uri": "https://localhost:8080/"
        },
        "id": "Zvu0AfVRlZM3",
        "outputId": "798de0b6-48b9-4b54-b5f5-e594dfe17d5a"
      },
      "execution_count": null,
      "outputs": [
        {
          "output_type": "execute_result",
          "data": {
            "text/plain": [
              "5.0"
            ]
          },
          "metadata": {},
          "execution_count": 11
        }
      ]
    },
    {
      "cell_type": "markdown",
      "source": [
        "2. Recordar los ejercicios con funciones para cálculo de factorial y suma de serie de la Clase 02. Repetir ambos ejercicios, pero ahora utilizar las nuevas operaciones aprendidas con los ndarrays.\n"
      ],
      "metadata": {
        "id": "YCtegma2mDO1"
      }
    },
    {
      "cell_type": "code",
      "source": [
        "#Calculo de factorial\n",
        "\n",
        "n = int(input('Ingrese un número: '))\n",
        "def factorial(x):\n",
        "    n=[]\n",
        "    if x==1:\n",
        "        return 1\n",
        "    if x>1:\n",
        "        while x>1:\n",
        "            x-=1\n",
        "            n.append(x+1)\n",
        "    return np.prod(np.array(n)) \n",
        "print('El factorial de ', n, ' es ', factorial(n))"
      ],
      "metadata": {
        "colab": {
          "base_uri": "https://localhost:8080/"
        },
        "id": "6vejNI5WQUN0",
        "outputId": "d81fdb0e-23f0-461d-b1e5-237ae062247f"
      },
      "execution_count": 47,
      "outputs": [
        {
          "output_type": "stream",
          "name": "stdout",
          "text": [
            "Ingrese un número: 5\n",
            "El factorial de  5  es  120\n"
          ]
        }
      ]
    },
    {
      "cell_type": "code",
      "source": [
        "#Suma de la Serie\n",
        "while True:  \n",
        " inicial=int(input(\"Indique el número inicial: \") or 1)  \n",
        " final=int(input(\"Indique el número final: \") or 100)  \n",
        " if inicial<final:  \n",
        "  break \n",
        "def sumar(inicial, final):\n",
        "  suma = np.arange(inicial, final+1)\n",
        "  return suma.sum()\n",
        "print(\"Suma de los números comprendidos entre \",inicial,\" y \",final,\"= \", sumar(inicial,final))"
      ],
      "metadata": {
        "colab": {
          "base_uri": "https://localhost:8080/"
        },
        "id": "jmorWSwcPq3V",
        "outputId": "18cfe217-dc67-4869-9d98-3ca760e7e1d4"
      },
      "execution_count": 31,
      "outputs": [
        {
          "output_type": "stream",
          "name": "stdout",
          "text": [
            "Indique el número inicial: 1\n",
            "Indique el número final: 3\n",
            "Suma de los números comprendidos entre  1  y  3 =  6\n"
          ]
        }
      ]
    },
    {
      "cell_type": "markdown",
      "source": [
        "3. En este link se provee un archivo con los resultados de la Encuesta de Sueldos de Openqube de Febrero 2020 (https://sueldos.openqube.io/encuesta-sueldos-2020.02/ ), Calcular y comparar media y mediana de los sueldos netos.\n"
      ],
      "metadata": {
        "id": "nfWBrZOQ56_b"
      }
    },
    {
      "cell_type": "code",
      "source": [
        "#cargo el csv que contiene solo el dato de los sueldos y los guardo en un array\n",
        "with open ('/content/sueldo_netos.csv') as sueldos:\n",
        "  array_sueldos = np.loadtxt(sueldos,delimiter = \",\")"
      ],
      "metadata": {
        "id": "Y5zIacLc6GYb"
      },
      "execution_count": 21,
      "outputs": []
    },
    {
      "cell_type": "code",
      "source": [
        "array_sueldos"
      ],
      "metadata": {
        "colab": {
          "base_uri": "https://localhost:8080/"
        },
        "id": "DtpD59bYDJ2m",
        "outputId": "b0001b82-6692-438f-9e65-c0b5b271b79f"
      },
      "execution_count": 24,
      "outputs": [
        {
          "output_type": "execute_result",
          "data": {
            "text/plain": [
              "array([[4.3000e+04, 0.0000e+00],\n",
              "       [6.3000e+04, 0.0000e+00],\n",
              "       [1.2700e+05, 0.0000e+00],\n",
              "       ...,\n",
              "       [4.5753e+04, 0.0000e+00],\n",
              "       [7.2000e+01, 0.0000e+00],\n",
              "       [6.5000e+04, 0.0000e+00]])"
            ]
          },
          "metadata": {},
          "execution_count": 24
        }
      ]
    },
    {
      "cell_type": "code",
      "source": [
        "  #clculo de la media\n",
        "media = np.mean(array_sueldos)\n",
        "media"
      ],
      "metadata": {
        "colab": {
          "base_uri": "https://localhost:8080/"
        },
        "id": "YtH7ElZvCY7d",
        "outputId": "cfa80ac6-5506-4f46-83ce-0909284e1eda"
      },
      "execution_count": 27,
      "outputs": [
        {
          "output_type": "execute_result",
          "data": {
            "text/plain": [
              "9654719.1934495"
            ]
          },
          "metadata": {},
          "execution_count": 27
        }
      ]
    },
    {
      "cell_type": "code",
      "source": [
        "#calculo de la mediana\n",
        "mediana = np.median(array_sueldos)\n",
        "mediana"
      ],
      "metadata": {
        "colab": {
          "base_uri": "https://localhost:8080/"
        },
        "id": "rIxRc3KkCxDP",
        "outputId": "5ffae560-e5b9-4047-a406-4a354ee5f600"
      },
      "execution_count": 28,
      "outputs": [
        {
          "output_type": "execute_result",
          "data": {
            "text/plain": [
              "41.0"
            ]
          },
          "metadata": {},
          "execution_count": 28
        }
      ]
    }
  ]
}