{
  "nbformat": 4,
  "nbformat_minor": 0,
  "metadata": {
    "colab": {
      "name": "Estructuras de control.ipynb",
      "provenance": []
    },
    "kernelspec": {
      "name": "python3",
      "display_name": "Python 3"
    },
    "language_info": {
      "name": "python"
    }
  },
  "cells": [
    {
      "cell_type": "markdown",
      "source": [
        "#Estructuras de control y funciones basicas\n",
        "##Uso de IF"
      ],
      "metadata": {
        "id": "QCBg-lAPdkNQ"
      }
    },
    {
      "cell_type": "code",
      "execution_count": null,
      "metadata": {
        "colab": {
          "base_uri": "https://localhost:8080/"
        },
        "id": "th8bXxCLNc61",
        "outputId": "daec6066-a4a5-4c61-852d-26ed59ed5063"
      },
      "outputs": [
        {
          "output_type": "stream",
          "name": "stdout",
          "text": [
            "cliente no encontrado\n"
          ]
        }
      ],
      "source": [
        "# if simple\n",
        "nro_de_clientes = 99\n",
        "\n",
        "if nro_de_clientes == 999:\n",
        "  print('es el cliente 999')\n",
        "else: \n",
        "  print('cliente no encontrado')\n"
      ]
    },
    {
      "cell_type": "code",
      "source": [
        "#if anidado\n",
        "nro_de_clientes = 111\n",
        "\n",
        "if nro_de_clientes == 999:\n",
        "  print('es el cliente 999')\n",
        "elif nro_de_clientes == 111: \n",
        "  print('es el cliente 111')\n",
        "else: \n",
        "  print('cliente no encontrado')"
      ],
      "metadata": {
        "colab": {
          "base_uri": "https://localhost:8080/"
        },
        "id": "2ZgxQTlMecqA",
        "outputId": "ed626b63-e0c4-49a8-cc1d-48297beab685"
      },
      "execution_count": null,
      "outputs": [
        {
          "output_type": "stream",
          "name": "stdout",
          "text": [
            "es el cliente 111\n"
          ]
        }
      ]
    },
    {
      "cell_type": "markdown",
      "source": [
        "##Uso del While"
      ],
      "metadata": {
        "id": "TI-rXmcnjDQX"
      }
    },
    {
      "cell_type": "code",
      "source": [
        "# while imprimir tres elementos\n",
        "i = 0\n",
        "while(i<3):\n",
        "  i = i+1\n",
        "  print(i)"
      ],
      "metadata": {
        "colab": {
          "base_uri": "https://localhost:8080/"
        },
        "id": "dJkH41uNfGZs",
        "outputId": "7d617183-22e2-421a-8505-a95d8e373bb7"
      },
      "execution_count": null,
      "outputs": [
        {
          "output_type": "stream",
          "name": "stdout",
          "text": [
            "1\n",
            "2\n",
            "3\n"
          ]
        }
      ]
    },
    {
      "cell_type": "code",
      "source": [
        "# while bucle infinito\n",
        "while(1):\n",
        "  x1= input('¿Nombre?')\n",
        "  print('Bienvenido ' + x1)"
      ],
      "metadata": {
        "id": "yi9gRnPQjcwW"
      },
      "execution_count": null,
      "outputs": []
    },
    {
      "cell_type": "code",
      "source": [
        "# while bucle con condicion de escape\n",
        "while(1):\n",
        "  x1= input('¿Nombre?')\n",
        "\n",
        "  if x1== 'salida':\n",
        "    break\n",
        "  \n",
        "  print('Bienvenido ' + x1)"
      ],
      "metadata": {
        "colab": {
          "base_uri": "https://localhost:8080/"
        },
        "id": "-6fCUm8RkQx-",
        "outputId": "95bbdd09-f621-4eea-c04c-4f9cc47dc4ef"
      },
      "execution_count": null,
      "outputs": [
        {
          "name": "stdout",
          "output_type": "stream",
          "text": [
            "¿Nombre?salida\n"
          ]
        }
      ]
    },
    {
      "cell_type": "markdown",
      "source": [
        "## Para que usar el while si hay for!"
      ],
      "metadata": {
        "id": "jK-6eRwJloCd"
      }
    },
    {
      "cell_type": "code",
      "source": [
        "lista = [1,2,3,4]"
      ],
      "metadata": {
        "id": "QAEO5tWAlBbb"
      },
      "execution_count": null,
      "outputs": []
    },
    {
      "cell_type": "code",
      "source": [
        "for i in lista:\n",
        "  print(i)"
      ],
      "metadata": {
        "colab": {
          "base_uri": "https://localhost:8080/"
        },
        "id": "mOA7EN9qmOeB",
        "outputId": "ce39ea6d-0dca-44b0-c888-4aa906ff5acd"
      },
      "execution_count": null,
      "outputs": [
        {
          "output_type": "stream",
          "name": "stdout",
          "text": [
            "1\n",
            "2\n",
            "3\n",
            "4\n"
          ]
        }
      ]
    },
    {
      "cell_type": "code",
      "source": [
        "for i in lista:\n",
        "\n",
        "  if i == 3:\n",
        "    break\n",
        "    \n",
        "  print(i)"
      ],
      "metadata": {
        "colab": {
          "base_uri": "https://localhost:8080/"
        },
        "id": "UvK1N8eNmikK",
        "outputId": "b76067d3-9bea-4d4a-c72f-ebe6bb987b12"
      },
      "execution_count": null,
      "outputs": [
        {
          "output_type": "stream",
          "name": "stdout",
          "text": [
            "1\n",
            "2\n"
          ]
        }
      ]
    },
    {
      "cell_type": "markdown",
      "source": [
        "## ¿Como usar un for sobre pandas dataframe?\n"
      ],
      "metadata": {
        "id": "pv7iXuSRmtrS"
      }
    },
    {
      "cell_type": "code",
      "source": [
        "import pandas as pd\n",
        "\n",
        "# pd.read_csv(filepath_of_buffer = 'link', sep = ',') Asi se escribe si queremos leerlo desde una url\n",
        "d_regiones = pd.read_csv('/content/drive/MyDrive/Intro Phyton/WHO_Regions.csv', sep= ',')\n",
        "d_regiones.head()"
      ],
      "metadata": {
        "colab": {
          "base_uri": "https://localhost:8080/",
          "height": 206
        },
        "id": "WXpY_ngPnG5Z",
        "outputId": "2f84f142-8a22-44b7-c808-cc8f6c360e9d"
      },
      "execution_count": null,
      "outputs": [
        {
          "output_type": "execute_result",
          "data": {
            "text/html": [
              "\n",
              "  <div id=\"df-bd2251fa-90bc-4f6d-b0e4-764e1d0105de\">\n",
              "    <div class=\"colab-df-container\">\n",
              "      <div>\n",
              "<style scoped>\n",
              "    .dataframe tbody tr th:only-of-type {\n",
              "        vertical-align: middle;\n",
              "    }\n",
              "\n",
              "    .dataframe tbody tr th {\n",
              "        vertical-align: top;\n",
              "    }\n",
              "\n",
              "    .dataframe thead th {\n",
              "        text-align: right;\n",
              "    }\n",
              "</style>\n",
              "<table border=\"1\" class=\"dataframe\">\n",
              "  <thead>\n",
              "    <tr style=\"text-align: right;\">\n",
              "      <th></th>\n",
              "      <th>Country</th>\n",
              "      <th>Region</th>\n",
              "    </tr>\n",
              "  </thead>\n",
              "  <tbody>\n",
              "    <tr>\n",
              "      <th>0</th>\n",
              "      <td>Algeria</td>\n",
              "      <td>Africa</td>\n",
              "    </tr>\n",
              "    <tr>\n",
              "      <th>1</th>\n",
              "      <td>Argentina</td>\n",
              "      <td>Americas</td>\n",
              "    </tr>\n",
              "    <tr>\n",
              "      <th>2</th>\n",
              "      <td>Australia</td>\n",
              "      <td>Western Pacific</td>\n",
              "    </tr>\n",
              "    <tr>\n",
              "      <th>3</th>\n",
              "      <td>Austria</td>\n",
              "      <td>Europe</td>\n",
              "    </tr>\n",
              "    <tr>\n",
              "      <th>4</th>\n",
              "      <td>Belarus</td>\n",
              "      <td>Europe</td>\n",
              "    </tr>\n",
              "  </tbody>\n",
              "</table>\n",
              "</div>\n",
              "      <button class=\"colab-df-convert\" onclick=\"convertToInteractive('df-bd2251fa-90bc-4f6d-b0e4-764e1d0105de')\"\n",
              "              title=\"Convert this dataframe to an interactive table.\"\n",
              "              style=\"display:none;\">\n",
              "        \n",
              "  <svg xmlns=\"http://www.w3.org/2000/svg\" height=\"24px\"viewBox=\"0 0 24 24\"\n",
              "       width=\"24px\">\n",
              "    <path d=\"M0 0h24v24H0V0z\" fill=\"none\"/>\n",
              "    <path d=\"M18.56 5.44l.94 2.06.94-2.06 2.06-.94-2.06-.94-.94-2.06-.94 2.06-2.06.94zm-11 1L8.5 8.5l.94-2.06 2.06-.94-2.06-.94L8.5 2.5l-.94 2.06-2.06.94zm10 10l.94 2.06.94-2.06 2.06-.94-2.06-.94-.94-2.06-.94 2.06-2.06.94z\"/><path d=\"M17.41 7.96l-1.37-1.37c-.4-.4-.92-.59-1.43-.59-.52 0-1.04.2-1.43.59L10.3 9.45l-7.72 7.72c-.78.78-.78 2.05 0 2.83L4 21.41c.39.39.9.59 1.41.59.51 0 1.02-.2 1.41-.59l7.78-7.78 2.81-2.81c.8-.78.8-2.07 0-2.86zM5.41 20L4 18.59l7.72-7.72 1.47 1.35L5.41 20z\"/>\n",
              "  </svg>\n",
              "      </button>\n",
              "      \n",
              "  <style>\n",
              "    .colab-df-container {\n",
              "      display:flex;\n",
              "      flex-wrap:wrap;\n",
              "      gap: 12px;\n",
              "    }\n",
              "\n",
              "    .colab-df-convert {\n",
              "      background-color: #E8F0FE;\n",
              "      border: none;\n",
              "      border-radius: 50%;\n",
              "      cursor: pointer;\n",
              "      display: none;\n",
              "      fill: #1967D2;\n",
              "      height: 32px;\n",
              "      padding: 0 0 0 0;\n",
              "      width: 32px;\n",
              "    }\n",
              "\n",
              "    .colab-df-convert:hover {\n",
              "      background-color: #E2EBFA;\n",
              "      box-shadow: 0px 1px 2px rgba(60, 64, 67, 0.3), 0px 1px 3px 1px rgba(60, 64, 67, 0.15);\n",
              "      fill: #174EA6;\n",
              "    }\n",
              "\n",
              "    [theme=dark] .colab-df-convert {\n",
              "      background-color: #3B4455;\n",
              "      fill: #D2E3FC;\n",
              "    }\n",
              "\n",
              "    [theme=dark] .colab-df-convert:hover {\n",
              "      background-color: #434B5C;\n",
              "      box-shadow: 0px 1px 3px 1px rgba(0, 0, 0, 0.15);\n",
              "      filter: drop-shadow(0px 1px 2px rgba(0, 0, 0, 0.3));\n",
              "      fill: #FFFFFF;\n",
              "    }\n",
              "  </style>\n",
              "\n",
              "      <script>\n",
              "        const buttonEl =\n",
              "          document.querySelector('#df-bd2251fa-90bc-4f6d-b0e4-764e1d0105de button.colab-df-convert');\n",
              "        buttonEl.style.display =\n",
              "          google.colab.kernel.accessAllowed ? 'block' : 'none';\n",
              "\n",
              "        async function convertToInteractive(key) {\n",
              "          const element = document.querySelector('#df-bd2251fa-90bc-4f6d-b0e4-764e1d0105de');\n",
              "          const dataTable =\n",
              "            await google.colab.kernel.invokeFunction('convertToInteractive',\n",
              "                                                     [key], {});\n",
              "          if (!dataTable) return;\n",
              "\n",
              "          const docLinkHtml = 'Like what you see? Visit the ' +\n",
              "            '<a target=\"_blank\" href=https://colab.research.google.com/notebooks/data_table.ipynb>data table notebook</a>'\n",
              "            + ' to learn more about interactive tables.';\n",
              "          element.innerHTML = '';\n",
              "          dataTable['output_type'] = 'display_data';\n",
              "          await google.colab.output.renderOutput(dataTable, element);\n",
              "          const docLink = document.createElement('div');\n",
              "          docLink.innerHTML = docLinkHtml;\n",
              "          element.appendChild(docLink);\n",
              "        }\n",
              "      </script>\n",
              "    </div>\n",
              "  </div>\n",
              "  "
            ],
            "text/plain": [
              "     Country           Region\n",
              "0    Algeria           Africa\n",
              "1  Argentina         Americas\n",
              "2  Australia  Western Pacific\n",
              "3    Austria           Europe\n",
              "4    Belarus           Europe"
            ]
          },
          "metadata": {},
          "execution_count": 21
        }
      ]
    },
    {
      "cell_type": "code",
      "source": [
        "# no hacerlo asi es incorrecto\n",
        "for row in d_regiones:\n",
        "  print(row)"
      ],
      "metadata": {
        "colab": {
          "base_uri": "https://localhost:8080/"
        },
        "id": "dwIK6JVXpUp_",
        "outputId": "a8d90d33-6498-4cf8-d291-04797dd9e942"
      },
      "execution_count": null,
      "outputs": [
        {
          "output_type": "stream",
          "name": "stdout",
          "text": [
            "Country\n",
            "Region\n"
          ]
        }
      ]
    },
    {
      "cell_type": "code",
      "source": [
        "# la forma correcta es usando la funcion iterrows()\n",
        "for label, row in d_regiones[:2].iterrows(): # el label es la posicion \n",
        "  print('El label es: ' + str(label)) #importante castear el label a string para que pueda concatenar\n",
        "  print(row)"
      ],
      "metadata": {
        "colab": {
          "base_uri": "https://localhost:8080/"
        },
        "id": "AD8efZU0ptZb",
        "outputId": "687489a5-32a6-47cd-ebf9-6103432f2038"
      },
      "execution_count": null,
      "outputs": [
        {
          "output_type": "stream",
          "name": "stdout",
          "text": [
            "El label es: 0\n",
            "Country    Algeria\n",
            "Region      Africa\n",
            "Name: 0, dtype: object\n",
            "El label es: 1\n",
            "Country    Argentina\n",
            "Region      Americas\n",
            "Name: 1, dtype: object\n"
          ]
        }
      ]
    },
    {
      "cell_type": "code",
      "source": [
        "#Accediendo a cada valor sin usar el label solo el row\n",
        "for _, row in d_regiones[:5].iterrows():\n",
        "  print('Pais: ' + row['Country'] + ' Continente: ' + row['Region'] )"
      ],
      "metadata": {
        "colab": {
          "base_uri": "https://localhost:8080/"
        },
        "id": "_MceRAmCq0MM",
        "outputId": "dd532577-d87a-404d-e26a-2ecd81775282"
      },
      "execution_count": null,
      "outputs": [
        {
          "output_type": "stream",
          "name": "stdout",
          "text": [
            "Pais: Algeria Continente: Africa\n",
            "Pais: Argentina Continente: Americas\n",
            "Pais: Australia Continente: Western Pacific\n",
            "Pais: Austria Continente: Europe\n",
            "Pais: Belarus Continente: Europe\n"
          ]
        }
      ]
    },
    {
      "cell_type": "markdown",
      "source": [
        "## ¿Como crear y explorar funciones en Python?"
      ],
      "metadata": {
        "id": "hEKo1Vjar-sW"
      }
    },
    {
      "cell_type": "code",
      "source": [
        "def mi_funcion():\n",
        "  print('hola mundo')"
      ],
      "metadata": {
        "id": "cvlcBr4Rrh20"
      },
      "execution_count": null,
      "outputs": []
    },
    {
      "cell_type": "code",
      "source": [
        "mi_funcion()"
      ],
      "metadata": {
        "colab": {
          "base_uri": "https://localhost:8080/"
        },
        "id": "3QL4A7v2sVjl",
        "outputId": "9cf5094f-4714-4a2f-ff8b-4cbd5c3aba32"
      },
      "execution_count": null,
      "outputs": [
        {
          "output_type": "stream",
          "name": "stdout",
          "text": [
            "hola mundo\n"
          ]
        }
      ]
    },
    {
      "cell_type": "markdown",
      "source": [
        "## ¿Como crear una funcion con parametros?"
      ],
      "metadata": {
        "id": "tzuRWVlAseA1"
      }
    },
    {
      "cell_type": "code",
      "source": [
        "def sumar(x1,x2):\n",
        "  return x1+x2"
      ],
      "metadata": {
        "id": "bpN5s3SjsZ-N"
      },
      "execution_count": null,
      "outputs": []
    },
    {
      "cell_type": "code",
      "source": [
        "sumar(1,1)"
      ],
      "metadata": {
        "colab": {
          "base_uri": "https://localhost:8080/"
        },
        "id": "vJzbHmO9s3ZX",
        "outputId": "9e28feb9-734b-4747-86af-3438e7582151"
      },
      "execution_count": null,
      "outputs": [
        {
          "output_type": "execute_result",
          "data": {
            "text/plain": [
              "2"
            ]
          },
          "metadata": {},
          "execution_count": 32
        }
      ]
    }
  ]
}