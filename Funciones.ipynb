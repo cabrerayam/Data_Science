{
  "nbformat": 4,
  "nbformat_minor": 0,
  "metadata": {
    "colab": {
      "name": "Funciones Cabrera.ipynb",
      "provenance": [],
      "collapsed_sections": []
    },
    "kernelspec": {
      "name": "python3",
      "display_name": "Python 3"
    },
    "language_info": {
      "name": "python"
    }
  },
  "cells": [
    {
      "cell_type": "markdown",
      "source": [
        "1. *Escribir* una función para calcular el factorial de un número cualquiera.\n"
      ],
      "metadata": {
        "id": "JY5ZmVIASEaR"
      }
    },
    {
      "cell_type": "code",
      "source": [
        "numero = int(input('Ingrese un número: '))\n",
        "def factorial(numero):\n",
        "  if(numero == 0):\n",
        "    return 1\n",
        "  elif(numero < 0):\n",
        "    print('El factorial de un numero negativo no existe')\n",
        "  else:\n",
        "    return numero * factorial(numero -1)\n",
        "print('El factorial de ' + str(numero) + ' es ' + str(factorial(numero)))"
      ],
      "metadata": {
        "colab": {
          "base_uri": "https://localhost:8080/"
        },
        "id": "jpWhQPXRW32k",
        "outputId": "183f8fad-0ab1-499d-e34c-3bc231e9fb56"
      },
      "execution_count": null,
      "outputs": [
        {
          "output_type": "stream",
          "name": "stdout",
          "text": [
            "Ingrese un número: 5\n",
            "El factorial de 5 es 120\n"
          ]
        }
      ]
    },
    {
      "cell_type": "markdown",
      "source": [
        "2. Escribir una función para calcular la suma de una serie comenzando por un número cualquiera y terminando en otro número que debe ser mayor al primero.\n"
      ],
      "metadata": {
        "id": "1MGeVbmJaLtB"
      }
    },
    {
      "cell_type": "code",
      "source": [
        "def Sumar_Serie(Num1,Num2):\n",
        "    return (sum([Cont for Cont in range(Num1+1,Num2)]))\n",
        "print(\"Resultado: \",Sumar_Serie(int(input(\"Primer numero entero: \")),int(input(\"Segundo numero entero: \"))))"
      ],
      "metadata": {
        "colab": {
          "base_uri": "https://localhost:8080/"
        },
        "id": "BzpKRyBJkZfw",
        "outputId": "9b9c4fea-6f3c-427c-dd65-8792dcebbc0e"
      },
      "execution_count": 10,
      "outputs": [
        {
          "output_type": "stream",
          "name": "stdout",
          "text": [
            "Primer numero entero: 5\n",
            "Segundo numero entero: 10\n",
            "Resultado:  30\n"
          ]
        }
      ]
    }
  ]
}